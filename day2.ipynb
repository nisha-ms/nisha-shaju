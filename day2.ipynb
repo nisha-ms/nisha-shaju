{
  "nbformat": 4,
  "nbformat_minor": 0,
  "metadata": {
    "colab": {
      "provenance": [],
      "authorship_tag": "ABX9TyMvRYEei4lWrpSLrsHvFVKB",
      "include_colab_link": true
    },
    "kernelspec": {
      "name": "python3",
      "display_name": "Python 3"
    },
    "language_info": {
      "name": "python"
    }
  },
  "cells": [
    {
      "cell_type": "markdown",
      "metadata": {
        "id": "view-in-github",
        "colab_type": "text"
      },
      "source": [
        "<a href=\"https://colab.research.google.com/github/nisha-ms/nisha-shaju/blob/day1/day2.ipynb\" target=\"_parent\"><img src=\"https://colab.research.google.com/assets/colab-badge.svg\" alt=\"Open In Colab\"/></a>"
      ]
    },
    {
      "cell_type": "code",
      "execution_count": null,
      "metadata": {
        "id": "AmGZ6Slt7YjP"
      },
      "outputs": [],
      "source": [
        "class student():\n",
        "  def __init__(kangaroo ,name, roll_no, marks):\n",
        "    kangaroo.name=name\n",
        "    kangaroo.roll_no=roll_no\n",
        "    kangaroo.marks=marks\n",
        "    students1=student('kangaroo','39','41')\n",
        "    \n",
        "    students1.marks\n",
        "  def result(kangaroo):\n",
        "     if kangaroo.marks>40:\n",
        "       return 'pass'\n",
        "     else:\n",
        "       return 'fail'"
      ]
    },
    {
      "cell_type": "code",
      "source": [
        "s1=student('aiswarya',9,45)\n",
        "s2=student('aleena',10,20)\n",
        "s3=student('nisha',35,80)\n",
        "s4=student('shifa',39,50)"
      ],
      "metadata": {
        "id": "OSX6nHNyH4nb"
      },
      "execution_count": null,
      "outputs": []
    },
    {
      "cell_type": "code",
      "source": [
        "student_name=[s1,s2,s3,s4]\n"
      ],
      "metadata": {
        "id": "pTpTpwx8JAS8"
      },
      "execution_count": null,
      "outputs": []
    },
    {
      "cell_type": "code",
      "source": [
        "fail=[]\n",
        "for i in range(3):\n",
        "  if student_name[i].marks<40:\n",
        "    fail.append(student_name[i].marks)\n",
        "    print(fail)\n"
      ],
      "metadata": {
        "colab": {
          "base_uri": "https://localhost:8080/"
        },
        "id": "Xxc-GniSMh_O",
        "outputId": "dada4fb4-c056-4c97-dfd8-fbbce1a0ba6e"
      },
      "execution_count": null,
      "outputs": [
        {
          "output_type": "stream",
          "name": "stdout",
          "text": [
            "[20]\n"
          ]
        }
      ]
    },
    {
      "cell_type": "code",
      "source": [
        "pass_list=[]\n",
        "fail_list=[]\n",
        "sort_list={}\n",
        "\n",
        "for x in student_name:\n",
        "  if x.result() =='pass':\n",
        "    pass_list.append(x.name)\n",
        "    sort_list['pass_list']=pass_list\n",
        "  else:\n",
        "    fail_list.append(x.name)\n",
        "    sort_list['fail_list']=fail_list\n",
        "\n"
      ],
      "metadata": {
        "id": "FHiUvGmGN279"
      },
      "execution_count": null,
      "outputs": []
    },
    {
      "cell_type": "code",
      "source": [
        "class circle():\n",
        "  def __init__(self,r):\n",
        "    self.radius = r\n",
        "\n",
        "  def area(self):\n",
        "    return self.radius**2*3.14\n",
        "\n",
        "  def perimeter(self):\n",
        "    return 2*self.radius*3.14\n",
        "\n",
        "NewCircle=circle(8)\n",
        "print(NewCircle.area())\n",
        "print(NewCircle.perimeter())"
      ],
      "metadata": {
        "colab": {
          "base_uri": "https://localhost:8080/"
        },
        "id": "wWV0PGUmUjPf",
        "outputId": "384eb01e-1c79-4aca-d26f-87670212e927"
      },
      "execution_count": null,
      "outputs": [
        {
          "output_type": "stream",
          "name": "stdout",
          "text": [
            "200.96\n",
            "50.24\n"
          ]
        }
      ]
    }
  ]
}